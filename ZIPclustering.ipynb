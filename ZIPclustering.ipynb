{
 "cells": [
  {
   "cell_type": "code",
   "execution_count": null,
   "metadata": {},
   "outputs": [
    {
     "name": "stdout",
     "output_type": "stream",
     "text": [
      "  user_loc fr_loc  scaled_sci\n",
      "0    00601  00601    47263819\n",
      "1    00601  00602      480097\n",
      "2    00601  00603      338333\n",
      "3    00601  00610      191037\n",
      "4    00601  00612      292680\n"
     ]
    }
   ],
   "source": [
    "import pandas as pd\n",
    "import glob\n",
    "\n",
    "# https://data.humdata.org/dataset/social-connectedness-index\n",
    "# Read all .tsv files and concatenate them into one DataFrame\n",
    "'''\n",
    "file_paths = sorted(glob.glob(\"zcta_zcta_shard*.tsv\"))  # Ensure files are read in order\n",
    "df = pd.concat([pd.read_csv(f, sep=\"\\t\", dtype={\"user_loc\": str, \"fr_loc\": str}) for f in file_paths], ignore_index=True)\n",
    "\n",
    "# Check the first few rows\n",
    "print(df.head())\n",
    "\n",
    "territory_zip_codes = ['006', '007', '008', '009', '967', '969']\n",
    "\n",
    "df = df[~df['user_loc'].str.startswith(tuple(territory_zip_codes)) & ~df['fr_loc'].str.startswith(tuple(territory_zip_codes))]\n",
    "'''"
   ]
  },
  {
   "cell_type": "code",
   "execution_count": null,
   "metadata": {},
   "outputs": [],
   "source": [
    "'''df.to_csv(\"filtered_zip_sci_data.csv\", index=False)'''"
   ]
  },
  {
   "cell_type": "markdown",
   "metadata": {},
   "source": [
    "From now on just read in cleaned version"
   ]
  },
  {
   "cell_type": "code",
   "execution_count": null,
   "metadata": {},
   "outputs": [],
   "source": [
    "df = pd.read_csv(\"filtered_zip_sci_data.csv\", sep=\"\\t\", dtype={\"user_loc\": str, \"fr_loc\": str})"
   ]
  },
  {
   "cell_type": "code",
   "execution_count": null,
   "metadata": {},
   "outputs": [],
   "source": [
    "import numpy as np\n",
    "\n",
    "df[\"distance\"] = 1 / df[\"scaled_sci\"]\n",
    "\n",
    "distance_matrix = df.pivot(index=\"user_loc\", columns=\"fr_loc\", values=\"distance\").fillna(np.inf)\n",
    "\n",
    "dist_array = distance_matrix.values"
   ]
  },
  {
   "cell_type": "code",
   "execution_count": 13,
   "metadata": {},
   "outputs": [
    {
     "data": {
      "text/plain": [
       "81"
      ]
     },
     "execution_count": 13,
     "metadata": {},
     "output_type": "execute_result"
    }
   ],
   "source": [
    "import gc\n",
    "\n",
    "del df\n",
    "gc.collect()"
   ]
  },
  {
   "cell_type": "code",
   "execution_count": null,
   "metadata": {},
   "outputs": [
    {
     "name": "stdout",
     "output_type": "stream",
     "text": [
      "  zip_code  cluster\n",
      "0    01001       21\n",
      "1    01002       21\n",
      "2    01003       21\n",
      "3    01005       21\n",
      "4    01007       21\n"
     ]
    }
   ],
   "source": [
    "from sklearn.cluster import AgglomerativeClustering\n",
    "\n",
    "# hierarchical clustering\n",
    "clustering = AgglomerativeClustering(n_clusters=50, metric=\"precomputed\", linkage=\"average\")\n",
    "clusters = clustering.fit_predict(dist_array)\n",
    "\n",
    "zip_clusters = pd.DataFrame({\"zip_code\": distance_matrix.index, \"cluster\": clusters})\n",
    "print(zip_clusters.head())\n"
   ]
  },
  {
   "cell_type": "code",
   "execution_count": 15,
   "metadata": {},
   "outputs": [],
   "source": [
    "zip_clusters.to_csv(\"zip_clusters.csv\", index=False)"
   ]
  },
  {
   "cell_type": "code",
   "execution_count": null,
   "metadata": {},
   "outputs": [],
   "source": [
    "%reset -f #clears all objects out of memory"
   ]
  }
 ],
 "metadata": {
  "kernelspec": {
   "display_name": "py3.12.3",
   "language": "python",
   "name": "python3"
  },
  "language_info": {
   "codemirror_mode": {
    "name": "ipython",
    "version": 3
   },
   "file_extension": ".py",
   "mimetype": "text/x-python",
   "name": "python",
   "nbconvert_exporter": "python",
   "pygments_lexer": "ipython3",
   "version": "3.12.3"
  }
 },
 "nbformat": 4,
 "nbformat_minor": 2
}
